{
 "cells": [
  {
   "cell_type": "code",
   "execution_count": 1,
   "id": "2e301a99-fa60-407d-9ab8-255afa8bb1d6",
   "metadata": {},
   "outputs": [],
   "source": [
    "import pandas as pd\n",
    "import numpy as np\n",
    "import joblib\n",
    "from sklearn.model_selection import train_test_split\n",
    "\n",
    "import warnings\n",
    "warnings.filterwarnings('ignore')\n",
    "\n",
    "import matplotlib.pyplot as plt\n",
    "import seaborn as sns\n",
    "\n",
    "from scipy.stats import zscore\n",
    "\n",
    "from collections import Counter\n",
    "from imblearn.under_sampling import RandomUnderSampler\n",
    "\n",
    "from sklearn.feature_selection import VarianceThreshold\n",
    "from sklearn.feature_selection import mutual_info_regression, mutual_info_classif"
   ]
  },
  {
   "cell_type": "code",
   "execution_count": 2,
   "id": "eb18508b-c21d-473e-a81a-577d9b7e4123",
   "metadata": {},
   "outputs": [],
   "source": [
    "x_train = joblib.load(\"../output/x_train.pkl\")\n",
    "y_train = joblib.load(\"../output/y_train.pkl\")\n",
    "x_valid = joblib.load(\"../output/x_valid.pkl\")\n",
    "y_valid = joblib.load(\"../output/y_valid.pkl\")\n",
    "x_test = joblib.load(\"../output/x_test.pkl\")\n",
    "y_test = joblib.load(\"../output/y_test.pkl\")"
   ]
  },
  {
   "cell_type": "code",
   "execution_count": 3,
   "id": "e99ea765-f4c3-4e22-b348-dc7cda44d03b",
   "metadata": {},
   "outputs": [],
   "source": [
    "def to_numeric(input_data):\n",
    "    \n",
    "    data = input_data.copy()\n",
    "    \n",
    "    # replace '> 50' with 51\n",
    "    data['Fresh Eggs Collected'] = data['Fresh Eggs Collected'].replace(['> 50'],[51])\n",
    "    data['Eggs Mixed With Partner Sperm'] = data['Eggs Mixed With Partner Sperm'].replace(['> 50'],[51])\n",
    "    \n",
    "    # replace '>=5' with 6\n",
    "    data['Total Number of Previous IVF cycles'] = data['Total Number of Previous IVF cycles'].replace(['>=5'],[6])\n",
    "    data['Total number of IVF pregnancies'] = data['Total number of IVF pregnancies'].replace(['>=5'],[6])\n",
    "    \n",
    "    # convert to numerical data\n",
    "    data['Fresh Eggs Collected'] = pd.to_numeric(data['Fresh Eggs Collected'])\n",
    "    data['Eggs Mixed With Partner Sperm'] = pd.to_numeric(data['Eggs Mixed With Partner Sperm'])\n",
    "    data['Total Number of Previous IVF cycles'] = pd.to_numeric(data['Total Number of Previous IVF cycles'])\n",
    "    data['Total number of IVF pregnancies'] = pd.to_numeric(data['Total number of IVF pregnancies'])\n",
    "    \n",
    "    return data"
   ]
  },
  {
   "cell_type": "code",
   "execution_count": 4,
   "id": "babae094-1c11-4d0f-8aaa-d7fcad4f6d49",
   "metadata": {},
   "outputs": [],
   "source": [
    "def replace_age(input_data, cats):\n",
    "    \n",
    "    data = input_data.copy()\n",
    "    data['Patient Age at Treatment'] = data['Patient Age at Treatment'].replace(cats)\n",
    "    \n",
    "    return data"
   ]
  },
  {
   "cell_type": "code",
   "execution_count": 5,
   "id": "340d4de5-96cf-4fb9-88b4-2a996a21181a",
   "metadata": {},
   "outputs": [],
   "source": [
    "def get_dummies(input_data, col):\n",
    "    \n",
    "    data = input_data.copy()\n",
    "    data = pd.get_dummies(data, columns=col, prefix=col)\n",
    "    \n",
    "    return data"
   ]
  },
  {
   "cell_type": "code",
   "execution_count": 6,
   "id": "d3346a01-aded-4f2e-9208-785310e9179f",
   "metadata": {},
   "outputs": [],
   "source": [
    "def replace_eggsrc(input_data):\n",
    "    \n",
    "    data = input_data.copy()\n",
    "    data['Egg Source'] = data['Egg Source'].replace(['Patient','Donor'],[0,1])\n",
    "    \n",
    "    return data"
   ]
  },
  {
   "cell_type": "code",
   "execution_count": 7,
   "id": "b17e0916-946b-49a1-9347-653b0a243cc6",
   "metadata": {},
   "outputs": [],
   "source": [
    "def remove_cols(input_data, cols):\n",
    "    \n",
    "    data = input_data.copy()\n",
    "    data = data.drop(columns=cols)\n",
    "    \n",
    "    return data"
   ]
  },
  {
   "cell_type": "code",
   "execution_count": 8,
   "id": "06fef117-7e7c-4f75-99a1-d158aa9a82aa",
   "metadata": {},
   "outputs": [],
   "source": [
    "def undersampling(x_train, y_train):\n",
    "    \n",
    "    undersample = RandomUnderSampler(sampling_strategy='majority')\n",
    "    X_train_under, y_train_under = undersample.fit_resample(x_train, y_train)\n",
    "    \n",
    "    return X_train_under, y_train_under"
   ]
  },
  {
   "cell_type": "code",
   "execution_count": 9,
   "id": "28615d96-b23d-4e20-b309-c30e025e6e7b",
   "metadata": {},
   "outputs": [],
   "source": [
    "# compile all dict & lists needed\n",
    "\n",
    "age_replace = {'18 - 34':0, '35-37':1, '38-39':2, '40-42':3, '43-44':4, '45-50':5}\n",
    "\n",
    "to_dummy = ['Sperm From']\n",
    "\n",
    "to_remove = ['Cause of Infertility - Female Factors',\n",
    "             'Cause of Infertility -  Partner Sperm Immunological factors',\n",
    "             'Type of Infertility -Couple Primary', \n",
    "             'Type of Infertility - Male Primary', \n",
    "             'Frozen Cycle', 'Fresh Cycle', \n",
    "             'Sperm From_Partner', \n",
    "             'Total number of live births - conceived through IVF', \n",
    "             'Eggs Mixed With Partner Sperm']"
   ]
  },
  {
   "cell_type": "code",
   "execution_count": 10,
   "id": "81e3e7fb-a07c-4b81-b75e-fc7740e411d5",
   "metadata": {},
   "outputs": [],
   "source": [
    "# compile all engineering\n",
    "\n",
    "def main_feat_engineering(input_data, age_value, to_dummy_feat, to_remove_feat):\n",
    "    \n",
    "    data = input_data.copy()\n",
    "    \n",
    "    # convert object columns to numerical\n",
    "    data = to_numeric(data)\n",
    "    \n",
    "    # delete 999 value in age field\n",
    "    data.drop(data[data['Patient Age at Treatment'] == '999'].index, inplace = True)\n",
    "    \n",
    "    # replace age value\n",
    "    data = replace_age(data, age_value)\n",
    "    \n",
    "    # get dummy variables\n",
    "    data = get_dummies(data, to_dummy_feat)\n",
    "    \n",
    "    # remove values on egg source\n",
    "    data = replace_eggsrc(data)\n",
    "    \n",
    "    # remove constant & correlated features\n",
    "    data = remove_cols(data, to_remove_feat)\n",
    "    \n",
    "    # split to x & y\n",
    "    x = data.drop(columns=['Live Birth Occurrence'], axis=1)\n",
    "    y = data['Live Birth Occurrence']\n",
    "    \n",
    "    # normalise data\n",
    "    X_norm = zscore(x)\n",
    "    \n",
    "    df_clean = pd.concat([X_norm, pd.DataFrame(y)], axis = 1)\n",
    "    \n",
    "    return df_clean"
   ]
  },
  {
   "cell_type": "code",
   "execution_count": 11,
   "id": "14224f88-3ad0-40af-9e7d-3c15a05f4abc",
   "metadata": {},
   "outputs": [],
   "source": [
    "df_train = pd.concat([x_train, pd.DataFrame(y_train)], axis = 1)"
   ]
  },
  {
   "cell_type": "code",
   "execution_count": 12,
   "id": "bcbb8f4a-1d01-470c-b6fc-fe37da69acc3",
   "metadata": {},
   "outputs": [],
   "source": [
    "df_train_clean = main_feat_engineering(df_train, age_replace, to_dummy, to_remove)"
   ]
  },
  {
   "cell_type": "code",
   "execution_count": 13,
   "id": "d0e5d2b0-95e4-4429-9c42-914093931dc8",
   "metadata": {},
   "outputs": [],
   "source": [
    "X_train_clean = df_train_clean.drop(columns=['Live Birth Occurrence'], axis=1)\n",
    "y_train_clean = df_train_clean['Live Birth Occurrence']"
   ]
  },
  {
   "cell_type": "code",
   "execution_count": 14,
   "id": "23156fcc-5590-4a3b-b3ee-f4886584ed66",
   "metadata": {},
   "outputs": [],
   "source": [
    "X_train_ready, y_train_ready = undersampling(X_train_clean, y_train_clean)"
   ]
  },
  {
   "cell_type": "code",
   "execution_count": 15,
   "id": "17db4fd7-e83c-43e9-b537-28fbdd44ef7a",
   "metadata": {},
   "outputs": [
    {
     "data": {
      "text/plain": [
       "(146466, 24)"
      ]
     },
     "execution_count": 15,
     "metadata": {},
     "output_type": "execute_result"
    }
   ],
   "source": [
    "X_train_ready.shape"
   ]
  },
  {
   "cell_type": "code",
   "execution_count": 16,
   "id": "ff847946-9178-4dd2-ac15-9127fc309b03",
   "metadata": {},
   "outputs": [
    {
     "data": {
      "text/plain": [
       "Patient Age at Treatment                              0\n",
       "Total Number of Previous IVF cycles                   0\n",
       "Total number of IVF pregnancies                       0\n",
       "Type of Infertility - Female Primary                  0\n",
       "Type of Infertility - Female Secondary                0\n",
       "Type of Infertility - Male Secondary                  0\n",
       "Type of Infertility -Couple Secondary                 0\n",
       "Cause  of Infertility - Tubal disease                 0\n",
       "Cause of Infertility - Ovulatory Disorder             0\n",
       "Cause of Infertility - Male Factor                    0\n",
       "Cause of Infertility - Patient Unexplained            0\n",
       "Cause of Infertility - Endometriosis                  0\n",
       "Cause of Infertility - Cervical factors               0\n",
       "Cause of Infertility - Partner Sperm Concentration    0\n",
       "Cause of Infertility -  Partner Sperm Morphology      0\n",
       "Causes of Infertility - Partner Sperm Motility        0\n",
       "Stimulation used                                      0\n",
       "Egg Source                                            0\n",
       "Eggs Thawed                                           0\n",
       "Fresh Eggs Collected                                  0\n",
       "Embryos Transfered                                    0\n",
       "Sperm From_Donor                                      0\n",
       "Sperm From_Partner & Donor                            0\n",
       "Sperm From_not assigned                               0\n",
       "dtype: int64"
      ]
     },
     "execution_count": 16,
     "metadata": {},
     "output_type": "execute_result"
    }
   ],
   "source": [
    "X_train_ready.isna().sum()"
   ]
  },
  {
   "cell_type": "code",
   "execution_count": 17,
   "id": "dc1fbf0c-eb49-4cdf-9fd3-4ac465f25056",
   "metadata": {},
   "outputs": [],
   "source": [
    "df_valid = pd.concat([x_valid, pd.DataFrame(y_valid)], axis = 1)"
   ]
  },
  {
   "cell_type": "code",
   "execution_count": 18,
   "id": "6bea6795-4114-4cc0-bd6e-a1c1d55c93fc",
   "metadata": {},
   "outputs": [],
   "source": [
    "df_valid_clean = main_feat_engineering(df_valid, age_replace, to_dummy, to_remove)"
   ]
  },
  {
   "cell_type": "code",
   "execution_count": 19,
   "id": "2331a0ca-6eef-440e-99ae-c6a94027ab98",
   "metadata": {},
   "outputs": [],
   "source": [
    "X_valid_ready = df_valid_clean.drop(columns=['Live Birth Occurrence'], axis=1)\n",
    "y_valid_ready = df_valid_clean['Live Birth Occurrence']"
   ]
  },
  {
   "cell_type": "code",
   "execution_count": 20,
   "id": "da0f557e-9cda-4871-8d9b-d33e51ffef56",
   "metadata": {},
   "outputs": [
    {
     "data": {
      "text/plain": [
       "(73057, 24)"
      ]
     },
     "execution_count": 20,
     "metadata": {},
     "output_type": "execute_result"
    }
   ],
   "source": [
    "X_valid_ready.shape"
   ]
  },
  {
   "cell_type": "code",
   "execution_count": 21,
   "id": "951ea882-63db-4c9a-aa3b-d866a6c08799",
   "metadata": {},
   "outputs": [
    {
     "name": "stdout",
     "output_type": "stream",
     "text": [
      "<class 'pandas.core.frame.DataFrame'>\n",
      "Int64Index: 73057 entries, 199094 to 80719\n",
      "Data columns (total 24 columns):\n",
      " #   Column                                              Non-Null Count  Dtype  \n",
      "---  ------                                              --------------  -----  \n",
      " 0   Patient Age at Treatment                            73057 non-null  float64\n",
      " 1   Total Number of Previous IVF cycles                 73057 non-null  float64\n",
      " 2   Total number of IVF pregnancies                     73057 non-null  float64\n",
      " 3   Type of Infertility - Female Primary                73057 non-null  float64\n",
      " 4   Type of Infertility - Female Secondary              73057 non-null  float64\n",
      " 5   Type of Infertility - Male Secondary                73057 non-null  float64\n",
      " 6   Type of Infertility -Couple Secondary               73057 non-null  float64\n",
      " 7   Cause  of Infertility - Tubal disease               73057 non-null  float64\n",
      " 8   Cause of Infertility - Ovulatory Disorder           73057 non-null  float64\n",
      " 9   Cause of Infertility - Male Factor                  73057 non-null  float64\n",
      " 10  Cause of Infertility - Patient Unexplained          73057 non-null  float64\n",
      " 11  Cause of Infertility - Endometriosis                73057 non-null  float64\n",
      " 12  Cause of Infertility - Cervical factors             73057 non-null  float64\n",
      " 13  Cause of Infertility - Partner Sperm Concentration  73057 non-null  float64\n",
      " 14  Cause of Infertility -  Partner Sperm Morphology    73057 non-null  float64\n",
      " 15  Causes of Infertility - Partner Sperm Motility      73057 non-null  float64\n",
      " 16  Stimulation used                                    73057 non-null  float64\n",
      " 17  Egg Source                                          73057 non-null  float64\n",
      " 18  Eggs Thawed                                         73057 non-null  float64\n",
      " 19  Fresh Eggs Collected                                73057 non-null  float64\n",
      " 20  Embryos Transfered                                  73057 non-null  float64\n",
      " 21  Sperm From_Donor                                    73057 non-null  float64\n",
      " 22  Sperm From_Partner & Donor                          73057 non-null  float64\n",
      " 23  Sperm From_not assigned                             73057 non-null  float64\n",
      "dtypes: float64(24)\n",
      "memory usage: 13.9 MB\n"
     ]
    }
   ],
   "source": [
    "X_valid_ready.info()"
   ]
  },
  {
   "cell_type": "code",
   "execution_count": 23,
   "id": "468b7df9-eb0f-4101-a880-cb50fe934aa1",
   "metadata": {},
   "outputs": [],
   "source": [
    "df_test = pd.concat([x_test, pd.DataFrame(y_test)], axis = 1)"
   ]
  },
  {
   "cell_type": "code",
   "execution_count": 24,
   "id": "9e22d96e-1733-4b1d-a131-2e642cc59d4a",
   "metadata": {},
   "outputs": [],
   "source": [
    "df_test_clean = main_feat_engineering(df_test, age_replace, to_dummy, to_remove)"
   ]
  },
  {
   "cell_type": "code",
   "execution_count": 25,
   "id": "925ca935-df5e-4344-8bd3-f55ec965b56c",
   "metadata": {},
   "outputs": [],
   "source": [
    "X_test_ready = df_test_clean.drop(columns=['Live Birth Occurrence'], axis=1)\n",
    "y_test_ready = df_test_clean['Live Birth Occurrence']"
   ]
  },
  {
   "cell_type": "code",
   "execution_count": 26,
   "id": "dae714da-58a5-4f9b-bbc7-7560c96add8d",
   "metadata": {},
   "outputs": [
    {
     "data": {
      "text/plain": [
       "(91401, 24)"
      ]
     },
     "execution_count": 26,
     "metadata": {},
     "output_type": "execute_result"
    }
   ],
   "source": [
    "X_test_ready.shape"
   ]
  },
  {
   "cell_type": "code",
   "execution_count": null,
   "id": "3077774d-750b-43bf-bc68-8c763adcfdb0",
   "metadata": {},
   "outputs": [],
   "source": [
    "joblib.dump(X_train_ready, \"../output/X_train_ready.pkl\")\n",
    "    joblib.dump(y_train_ready, \"../output/y_train_ready.pkl\")\n",
    "    joblib.dump(X_valid_ready, \"../output/X_valid_ready.pkl\")\n",
    "    joblib.dump(y_valid_ready, \"../output/y_valid_ready.pkl\")\n",
    "    joblib.dump(X_test_ready, \"../output/X_test_ready.pkl\")\n",
    "    joblib.dump(y_test_ready, \"../output/y_test_ready.pkl\")"
   ]
  }
 ],
 "metadata": {
  "kernelspec": {
   "display_name": "Python 3 (ipykernel)",
   "language": "python",
   "name": "python3"
  },
  "language_info": {
   "codemirror_mode": {
    "name": "ipython",
    "version": 3
   },
   "file_extension": ".py",
   "mimetype": "text/x-python",
   "name": "python",
   "nbconvert_exporter": "python",
   "pygments_lexer": "ipython3",
   "version": "3.10.5"
  }
 },
 "nbformat": 4,
 "nbformat_minor": 5
}
